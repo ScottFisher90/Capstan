{
 "cells": [
  {
   "cell_type": "code",
   "execution_count": 1,
   "id": "dd400e42",
   "metadata": {},
   "outputs": [],
   "source": [
    "import pandas as pd\n",
    "import seaborn as sns\n",
    "import warnings\n",
    "warnings.filterwarnings('ignore')"
   ]
  },
  {
   "cell_type": "code",
   "execution_count": 2,
   "id": "f8ac5cc1",
   "metadata": {},
   "outputs": [],
   "source": [
    "BAAO_df = pd.read_csv('item-sales-summary-2022-01-01-2022-02-12.csv')"
   ]
  },
  {
   "cell_type": "code",
   "execution_count": 3,
   "id": "694afb5c",
   "metadata": {},
   "outputs": [],
   "source": [
    "BAAO_df['Gross Sales'] = BAAO_df['Gross Sales'].str.lstrip('$').str.replace(',','').astype('float')\n",
    "BAAO_df = BAAO_df.sort_values(by='Gross Sales', ascending=False)\n",
    "BAAO_df['Item Name'] = BAAO_df['Item Name'].astype('str')\n",
    "BAAO_df['Item Variation'] = BAAO_df['Item Variation'].str.replace('Large', 'L').str.replace('Medium', 'M').str.replace('Small', 'S')"
   ]
  },
  {
   "cell_type": "code",
   "execution_count": 4,
   "id": "33fd0046",
   "metadata": {},
   "outputs": [],
   "source": [
    "shirts = ['Hoodie', 'Seperate Shirt ', 'Pink ', 'Skull', 'Never Alone LS']\n",
    "BAAO_df = BAAO_df[(BAAO_df['Item Name'].isin(shirts))]\n",
    "BAAO_insight_df = BAAO_df[['Item Name', 'Item Variation', 'Items Sold']]"
   ]
  },
  {
   "cell_type": "code",
   "execution_count": 5,
   "id": "6d90fe37",
   "metadata": {},
   "outputs": [
    {
     "data": {
      "text/html": [
       "<div>\n",
       "<style scoped>\n",
       "    .dataframe tbody tr th:only-of-type {\n",
       "        vertical-align: middle;\n",
       "    }\n",
       "\n",
       "    .dataframe tbody tr th {\n",
       "        vertical-align: top;\n",
       "    }\n",
       "\n",
       "    .dataframe thead th {\n",
       "        text-align: right;\n",
       "    }\n",
       "</style>\n",
       "<table border=\"1\" class=\"dataframe\">\n",
       "  <thead>\n",
       "    <tr style=\"text-align: right;\">\n",
       "      <th></th>\n",
       "      <th>Item Name</th>\n",
       "      <th>Items Sold</th>\n",
       "      <th>Percentage</th>\n",
       "      <th>Items To Order</th>\n",
       "    </tr>\n",
       "  </thead>\n",
       "  <tbody>\n",
       "    <tr>\n",
       "      <th>0</th>\n",
       "      <td>Hoodie</td>\n",
       "      <td>202</td>\n",
       "      <td>0.347079</td>\n",
       "      <td>269.3266</td>\n",
       "    </tr>\n",
       "    <tr>\n",
       "      <th>1</th>\n",
       "      <td>Never Alone LS</td>\n",
       "      <td>95</td>\n",
       "      <td>0.163230</td>\n",
       "      <td>126.6635</td>\n",
       "    </tr>\n",
       "    <tr>\n",
       "      <th>2</th>\n",
       "      <td>Pink</td>\n",
       "      <td>63</td>\n",
       "      <td>0.108247</td>\n",
       "      <td>83.9979</td>\n",
       "    </tr>\n",
       "    <tr>\n",
       "      <th>3</th>\n",
       "      <td>Seperate Shirt</td>\n",
       "      <td>125</td>\n",
       "      <td>0.214777</td>\n",
       "      <td>166.6625</td>\n",
       "    </tr>\n",
       "    <tr>\n",
       "      <th>4</th>\n",
       "      <td>Skull</td>\n",
       "      <td>97</td>\n",
       "      <td>0.166667</td>\n",
       "      <td>129.3301</td>\n",
       "    </tr>\n",
       "  </tbody>\n",
       "</table>\n",
       "</div>"
      ],
      "text/plain": [
       "         Item Name  Items Sold  Percentage  Items To Order\n",
       "0           Hoodie         202    0.347079        269.3266\n",
       "1   Never Alone LS          95    0.163230        126.6635\n",
       "2            Pink           63    0.108247         83.9979\n",
       "3  Seperate Shirt          125    0.214777        166.6625\n",
       "4            Skull          97    0.166667        129.3301"
      ]
     },
     "execution_count": 5,
     "metadata": {},
     "output_type": "execute_result"
    }
   ],
   "source": [
    "BAAO_items = BAAO_insight_df.groupby('Item Name')['Items Sold'].sum().reset_index()\n",
    "total_sold = BAAO_items['Items Sold'].sum()\n",
    "BAAO_items['Percentage'] = BAAO_items['Items Sold']/total_sold\n",
    "BAAO_items['Items To Order'] = BAAO_items['Items Sold']*1.3333\n",
    "BAAO_items"
   ]
  },
  {
   "cell_type": "code",
   "execution_count": 6,
   "id": "dc720902",
   "metadata": {},
   "outputs": [
    {
     "data": {
      "text/plain": [
       "<AxesSubplot:xlabel='Item Name', ylabel='Items Sold'>"
      ]
     },
     "execution_count": 6,
     "metadata": {},
     "output_type": "execute_result"
    },
    {
     "data": {
      "image/png": "[encoded data removed]",
      "text/plain": [
       "<Figure size 1080x504 with 1 Axes>"
      ]
     },
     "metadata": {},
     "output_type": "display_data"
    }
   ],
   "source": [
    "sns.set(rc={'figure.figsize':(15,7)})\n",
    "sns.barplot(data = BAAO_items, x='Item Name', y='Items Sold')"
   ]
  },
  {
   "cell_type": "code",
   "execution_count": 7,
   "id": "330dc588",
   "metadata": {},
   "outputs": [
    {
     "data": {
      "text/html": [
       "<div>\n",
       "<style scoped>\n",
       "    .dataframe tbody tr th:only-of-type {\n",
       "        vertical-align: middle;\n",
       "    }\n",
       "\n",
       "    .dataframe tbody tr th {\n",
       "        vertical-align: top;\n",
       "    }\n",
       "\n",
       "    .dataframe thead th {\n",
       "        text-align: right;\n",
       "    }\n",
       "</style>\n",
       "<table border=\"1\" class=\"dataframe\">\n",
       "  <thead>\n",
       "    <tr style=\"text-align: right;\">\n",
       "      <th></th>\n",
       "      <th>Item Variation</th>\n",
       "      <th>Items Sold</th>\n",
       "      <th>Percentage</th>\n",
       "    </tr>\n",
       "  </thead>\n",
       "  <tbody>\n",
       "    <tr>\n",
       "      <th>2</th>\n",
       "      <td>S</td>\n",
       "      <td>69</td>\n",
       "      <td>0.118557</td>\n",
       "    </tr>\n",
       "    <tr>\n",
       "      <th>1</th>\n",
       "      <td>M</td>\n",
       "      <td>126</td>\n",
       "      <td>0.216495</td>\n",
       "    </tr>\n",
       "    <tr>\n",
       "      <th>0</th>\n",
       "      <td>L</td>\n",
       "      <td>192</td>\n",
       "      <td>0.329897</td>\n",
       "    </tr>\n",
       "    <tr>\n",
       "      <th>3</th>\n",
       "      <td>XL</td>\n",
       "      <td>115</td>\n",
       "      <td>0.197595</td>\n",
       "    </tr>\n",
       "    <tr>\n",
       "      <th>4</th>\n",
       "      <td>XXL</td>\n",
       "      <td>57</td>\n",
       "      <td>0.097938</td>\n",
       "    </tr>\n",
       "    <tr>\n",
       "      <th>5</th>\n",
       "      <td>XXXL</td>\n",
       "      <td>23</td>\n",
       "      <td>0.039519</td>\n",
       "    </tr>\n",
       "  </tbody>\n",
       "</table>\n",
       "</div>"
      ],
      "text/plain": [
       "  Item Variation  Items Sold  Percentage\n",
       "2              S          69    0.118557\n",
       "1              M         126    0.216495\n",
       "0              L         192    0.329897\n",
       "3             XL         115    0.197595\n",
       "4            XXL          57    0.097938\n",
       "5           XXXL          23    0.039519"
      ]
     },
     "execution_count": 7,
     "metadata": {},
     "output_type": "execute_result"
    }
   ],
   "source": [
    "BAAO_sizes = BAAO_insight_df.groupby('Item Variation')['Items Sold'].sum().reset_index()\n",
    "total_sold = BAAO_items['Items Sold'].sum()\n",
    "BAAO_sizes['Percentage'] = BAAO_sizes['Items Sold']/total_sold\n",
    "BAAO_sizes = BAAO_sizes.reindex([2, 1, 0, 3, 4, 5])\n",
    "BAAO_sizes"
   ]
  },
  {
   "cell_type": "code",
   "execution_count": 8,
   "id": "3e4f15af",
   "metadata": {},
   "outputs": [
    {
     "data": {
      "text/plain": [
       "<AxesSubplot:xlabel='Item Variation', ylabel='Items Sold'>"
      ]
     },
     "execution_count": 8,
     "metadata": {},
     "output_type": "execute_result"
    },
    {
     "data": {
      "image/png": "[encoded data removed]",
      "text/plain": [
       "<Figure size 1080x504 with 1 Axes>"
      ]
     },
     "metadata": {},
     "output_type": "display_data"
    }
   ],
   "source": [
    "sns.set(rc={'figure.figsize':(15,7)})\n",
    "sns.barplot(data = BAAO_sizes, x='Item Variation', y='Items Sold')"
   ]
  },
  {
   "cell_type": "code",
   "execution_count": 10,
   "id": "32b64bdb",
   "metadata": {},
   "outputs": [
    {
     "data": {
      "text/html": [
       "<div>\n",
       "<style scoped>\n",
       "    .dataframe tbody tr th:only-of-type {\n",
       "        vertical-align: middle;\n",
       "    }\n",
       "\n",
       "    .dataframe tbody tr th {\n",
       "        vertical-align: top;\n",
       "    }\n",
       "\n",
       "    .dataframe thead th {\n",
       "        text-align: right;\n",
       "    }\n",
       "</style>\n",
       "<table border=\"1\" class=\"dataframe\">\n",
       "  <thead>\n",
       "    <tr style=\"text-align: right;\">\n",
       "      <th></th>\n",
       "      <th>Item Name</th>\n",
       "      <th>Item Variation</th>\n",
       "      <th>Items Sold</th>\n",
       "      <th>Projected Sold</th>\n",
       "    </tr>\n",
       "  </thead>\n",
       "  <tbody>\n",
       "    <tr>\n",
       "      <th>11</th>\n",
       "      <td>Hoodie</td>\n",
       "      <td>L</td>\n",
       "      <td>67</td>\n",
       "      <td>89.3311</td>\n",
       "    </tr>\n",
       "    <tr>\n",
       "      <th>12</th>\n",
       "      <td>Hoodie</td>\n",
       "      <td>M</td>\n",
       "      <td>40</td>\n",
       "      <td>53.3320</td>\n",
       "    </tr>\n",
       "    <tr>\n",
       "      <th>14</th>\n",
       "      <td>Hoodie</td>\n",
       "      <td>XL</td>\n",
       "      <td>37</td>\n",
       "      <td>49.3321</td>\n",
       "    </tr>\n",
       "    <tr>\n",
       "      <th>13</th>\n",
       "      <td>Hoodie</td>\n",
       "      <td>S</td>\n",
       "      <td>26</td>\n",
       "      <td>34.6658</td>\n",
       "    </tr>\n",
       "    <tr>\n",
       "      <th>9</th>\n",
       "      <td>Hoodie</td>\n",
       "      <td>XXL</td>\n",
       "      <td>23</td>\n",
       "      <td>30.6659</td>\n",
       "    </tr>\n",
       "    <tr>\n",
       "      <th>10</th>\n",
       "      <td>Hoodie</td>\n",
       "      <td>XXXL</td>\n",
       "      <td>9</td>\n",
       "      <td>11.9997</td>\n",
       "    </tr>\n",
       "    <tr>\n",
       "      <th>20</th>\n",
       "      <td>Never Alone LS</td>\n",
       "      <td>XXL</td>\n",
       "      <td>7</td>\n",
       "      <td>9.3331</td>\n",
       "    </tr>\n",
       "    <tr>\n",
       "      <th>16</th>\n",
       "      <td>Never Alone LS</td>\n",
       "      <td>L</td>\n",
       "      <td>29</td>\n",
       "      <td>38.6657</td>\n",
       "    </tr>\n",
       "    <tr>\n",
       "      <th>17</th>\n",
       "      <td>Never Alone LS</td>\n",
       "      <td>M</td>\n",
       "      <td>27</td>\n",
       "      <td>35.9991</td>\n",
       "    </tr>\n",
       "    <tr>\n",
       "      <th>21</th>\n",
       "      <td>Never Alone LS</td>\n",
       "      <td>XXXL</td>\n",
       "      <td>7</td>\n",
       "      <td>9.3331</td>\n",
       "    </tr>\n",
       "    <tr>\n",
       "      <th>18</th>\n",
       "      <td>Never Alone LS</td>\n",
       "      <td>S</td>\n",
       "      <td>11</td>\n",
       "      <td>14.6663</td>\n",
       "    </tr>\n",
       "    <tr>\n",
       "      <th>19</th>\n",
       "      <td>Never Alone LS</td>\n",
       "      <td>XL</td>\n",
       "      <td>14</td>\n",
       "      <td>18.6662</td>\n",
       "    </tr>\n",
       "    <tr>\n",
       "      <th>25</th>\n",
       "      <td>Pink</td>\n",
       "      <td>S</td>\n",
       "      <td>5</td>\n",
       "      <td>6.6665</td>\n",
       "    </tr>\n",
       "    <tr>\n",
       "      <th>24</th>\n",
       "      <td>Pink</td>\n",
       "      <td>M</td>\n",
       "      <td>16</td>\n",
       "      <td>21.3328</td>\n",
       "    </tr>\n",
       "    <tr>\n",
       "      <th>26</th>\n",
       "      <td>Pink</td>\n",
       "      <td>XL</td>\n",
       "      <td>16</td>\n",
       "      <td>21.3328</td>\n",
       "    </tr>\n",
       "    <tr>\n",
       "      <th>23</th>\n",
       "      <td>Pink</td>\n",
       "      <td>L</td>\n",
       "      <td>21</td>\n",
       "      <td>27.9993</td>\n",
       "    </tr>\n",
       "    <tr>\n",
       "      <th>27</th>\n",
       "      <td>Pink</td>\n",
       "      <td>XXL</td>\n",
       "      <td>4</td>\n",
       "      <td>5.3332</td>\n",
       "    </tr>\n",
       "    <tr>\n",
       "      <th>28</th>\n",
       "      <td>Pink</td>\n",
       "      <td>XXXL</td>\n",
       "      <td>1</td>\n",
       "      <td>1.3333</td>\n",
       "    </tr>\n",
       "    <tr>\n",
       "      <th>45</th>\n",
       "      <td>Seperate Shirt</td>\n",
       "      <td>XL</td>\n",
       "      <td>24</td>\n",
       "      <td>31.9992</td>\n",
       "    </tr>\n",
       "    <tr>\n",
       "      <th>46</th>\n",
       "      <td>Seperate Shirt</td>\n",
       "      <td>XXL</td>\n",
       "      <td>14</td>\n",
       "      <td>18.6662</td>\n",
       "    </tr>\n",
       "    <tr>\n",
       "      <th>44</th>\n",
       "      <td>Seperate Shirt</td>\n",
       "      <td>S</td>\n",
       "      <td>13</td>\n",
       "      <td>17.3329</td>\n",
       "    </tr>\n",
       "    <tr>\n",
       "      <th>43</th>\n",
       "      <td>Seperate Shirt</td>\n",
       "      <td>M</td>\n",
       "      <td>28</td>\n",
       "      <td>37.3324</td>\n",
       "    </tr>\n",
       "    <tr>\n",
       "      <th>47</th>\n",
       "      <td>Seperate Shirt</td>\n",
       "      <td>XXXL</td>\n",
       "      <td>6</td>\n",
       "      <td>7.9998</td>\n",
       "    </tr>\n",
       "    <tr>\n",
       "      <th>42</th>\n",
       "      <td>Seperate Shirt</td>\n",
       "      <td>L</td>\n",
       "      <td>40</td>\n",
       "      <td>53.3320</td>\n",
       "    </tr>\n",
       "    <tr>\n",
       "      <th>33</th>\n",
       "      <td>Skull</td>\n",
       "      <td>M</td>\n",
       "      <td>15</td>\n",
       "      <td>19.9995</td>\n",
       "    </tr>\n",
       "    <tr>\n",
       "      <th>34</th>\n",
       "      <td>Skull</td>\n",
       "      <td>S</td>\n",
       "      <td>14</td>\n",
       "      <td>18.6662</td>\n",
       "    </tr>\n",
       "    <tr>\n",
       "      <th>35</th>\n",
       "      <td>Skull</td>\n",
       "      <td>XL</td>\n",
       "      <td>24</td>\n",
       "      <td>31.9992</td>\n",
       "    </tr>\n",
       "    <tr>\n",
       "      <th>36</th>\n",
       "      <td>Skull</td>\n",
       "      <td>XXL</td>\n",
       "      <td>9</td>\n",
       "      <td>11.9997</td>\n",
       "    </tr>\n",
       "    <tr>\n",
       "      <th>32</th>\n",
       "      <td>Skull</td>\n",
       "      <td>L</td>\n",
       "      <td>35</td>\n",
       "      <td>46.6655</td>\n",
       "    </tr>\n",
       "  </tbody>\n",
       "</table>\n",
       "</div>"
      ],
      "text/plain": [
       "          Item Name Item Variation  Items Sold  Projected Sold\n",
       "11           Hoodie              L          67         89.3311\n",
       "12           Hoodie              M          40         53.3320\n",
       "14           Hoodie             XL          37         49.3321\n",
       "13           Hoodie              S          26         34.6658\n",
       "9            Hoodie            XXL          23         30.6659\n",
       "10           Hoodie           XXXL           9         11.9997\n",
       "20   Never Alone LS            XXL           7          9.3331\n",
       "16   Never Alone LS              L          29         38.6657\n",
       "17   Never Alone LS              M          27         35.9991\n",
       "21   Never Alone LS           XXXL           7          9.3331\n",
       "18   Never Alone LS              S          11         14.6663\n",
       "19   Never Alone LS             XL          14         18.6662\n",
       "25            Pink               S           5          6.6665\n",
       "24            Pink               M          16         21.3328\n",
       "26            Pink              XL          16         21.3328\n",
       "23            Pink               L          21         27.9993\n",
       "27            Pink             XXL           4          5.3332\n",
       "28            Pink            XXXL           1          1.3333\n",
       "45  Seperate Shirt              XL          24         31.9992\n",
       "46  Seperate Shirt             XXL          14         18.6662\n",
       "44  Seperate Shirt               S          13         17.3329\n",
       "43  Seperate Shirt               M          28         37.3324\n",
       "47  Seperate Shirt            XXXL           6          7.9998\n",
       "42  Seperate Shirt               L          40         53.3320\n",
       "33            Skull              M          15         19.9995\n",
       "34            Skull              S          14         18.6662\n",
       "35            Skull             XL          24         31.9992\n",
       "36            Skull            XXL           9         11.9997\n",
       "32            Skull              L          35         46.6655"
      ]
     },
     "execution_count": 10,
     "metadata": {},
     "output_type": "execute_result"
    }
   ],
   "source": [
    "BAAO_insight_df['Projected Sold'] = BAAO_insight_df['Items Sold']*1.3333\n",
    "BAAO_insight_df.sort_values(by='Item Name')"
   ]
  },
  {
   "cell_type": "code",
   "execution_count": 13,
   "id": "0f04103d",
   "metadata": {},
   "outputs": [],
   "source": [
    "hoodie_df = BAAO_insight_df[(BAAO_insight_df['Item Name'] == 'Hoodie')]\n",
    "shirt_df = BAAO_insight_df[(BAAO_insight_df['Item Name'] != 'Hoodie')]\n",
    "hoodie_df = hoodie_df.reindex([13,12,11,14,9,10])"
   ]
  },
  {
   "cell_type": "code",
   "execution_count": 14,
   "id": "88dc7580",
   "metadata": {},
   "outputs": [
    {
     "data": {
      "text/plain": [
       "<AxesSubplot:xlabel='Item Variation', ylabel='Items Sold'>"
      ]
     },
     "execution_count": 14,
     "metadata": {},
     "output_type": "execute_result"
    },
    {
     "data": {
      "image/png": "[encoded data removed]",
      "text/plain": [
       "<Figure size 1080x504 with 1 Axes>"
      ]
     },
     "metadata": {},
     "output_type": "display_data"
    }
   ],
   "source": [
    "sns.set(rc={'figure.figsize':(15,7)})\n",
    "sns.barplot(data = hoodie_df, x='Item Variation', y='Items Sold')"
   ]
  },
  {
   "cell_type": "code",
   "execution_count": 15,
   "id": "e45c100c",
   "metadata": {},
   "outputs": [
    {
     "data": {
      "text/plain": [
       "<AxesSubplot:xlabel='Item Variation', ylabel='Items Sold'>"
      ]
     },
     "execution_count": 15,
     "metadata": {},
     "output_type": "execute_result"
    },
    {
     "data": {
      "image/png": "[encoded data removed]",
      "text/plain": [
       "<Figure size 1080x504 with 1 Axes>"
      ]
     },
     "metadata": {},
     "output_type": "display_data"
    }
   ],
   "source": [
    "shirt_df = shirt_df.groupby('Item Variation')['Items Sold'].sum().reset_index()\n",
    "shirt_df = shirt_df.reindex([2,1,0,3,4,5])\n",
    "sns.set(rc={'figure.figsize':(15,7)})\n",
    "sns.barplot(data = shirt_df, x='Item Variation', y='Items Sold')"
   ]
  }
 ],
 "metadata": {
  "kernelspec": {
   "display_name": "Python 3 (ipykernel)",
   "language": "python",
   "name": "python3"
  },
  "language_info": {
   "codemirror_mode": {
    "name": "ipython",
    "version": 3
   },
   "file_extension": ".py",
   "mimetype": "text/x-python",
   "name": "python",
   "nbconvert_exporter": "python",
   "pygments_lexer": "ipython3",
   "version": "3.9.12"
  }
 },
 "nbformat": 4,
 "nbformat_minor": 5
}
